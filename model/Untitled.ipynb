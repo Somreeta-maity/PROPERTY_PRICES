{
 "cells": [
  {
   "cell_type": "code",
   "execution_count": 1,
   "metadata": {},
   "outputs": [],
   "source": [
    "import numpy as np\n",
    "import pandas as pd\n",
    "import matplotlib.pyplot as plt\n",
    "from math import floor\n",
    "from sklearn.model_selection import GridSearchCV\n",
    "from sklearn.model_selection import ShuffleSplit\n",
    "from sklearn.linear_model import LinearRegression\n",
    "from sklearn.linear_model import Lasso\n",
    "from sklearn.tree import DecisionTreeRegressor\n",
    "from sklearn.model_selection import train_test_split\n",
    "import pickle"
   ]
  },
  {
   "cell_type": "code",
   "execution_count": 15,
   "metadata": {},
   "outputs": [],
   "source": [
    "df = pd.read_csv('Bengluru_House_Data.csv')"
   ]
  },
  {
   "cell_type": "code",
   "execution_count": 16,
   "metadata": {},
   "outputs": [],
   "source": [
    "df = df.drop('society', axis='columns')"
   ]
  },
  {
   "cell_type": "code",
   "execution_count": 20,
   "metadata": {},
   "outputs": [
    {
     "data": {
      "text/plain": [
       "array([ 39.07, 120.  ,  62.  , ...,  40.14, 231.  , 488.  ])"
      ]
     },
     "execution_count": 20,
     "metadata": {},
     "output_type": "execute_result"
    }
   ],
   "source": [
    "df[\"price\"].unique()"
   ]
  },
  {
   "cell_type": "code",
   "execution_count": 5,
   "metadata": {},
   "outputs": [],
   "source": [
    "balcony_median = float(floor(df.balcony.median()))\n",
    "bath_median = float(floor(df.bath.median()))\n",
    "\n",
    "df.balcony = df.balcony.fillna(balcony_median)\n",
    "df.bath = df.bath.fillna(bath_median)\n",
    "\n",
    "# Dropping the rows with null values because the dataset is huge as compared to null values.\n",
    "df = df.dropna()\n",
    "\n",
    "# Converting the size column to bhk\n",
    "df['bhk'] = df['size'].apply(lambda x: int(x.split(' ')[0]))\n",
    "df = df.drop('size', axis='columns')"
   ]
  },
  {
   "cell_type": "code",
   "execution_count": 6,
   "metadata": {},
   "outputs": [],
   "source": [
    "def isFloat(x):\n",
    "    try:\n",
    "        float(x)\n",
    "    except:\n",
    "        return False\n",
    "    return True\n",
    "\n",
    "# Displaying all the rows that are not integers\n",
    "df[~df['total_sqft'].apply(isFloat)]\n",
    "\n",
    "\n",
    "# Converting the range values to integer values and removing other types of error\n",
    "def convert_sqft_to_num(x):\n",
    "    tokens = x.split('-')\n",
    "    if len(tokens) == 2:\n",
    "        return (float(tokens[0])+float(tokens[1]))/2\n",
    "    try:\n",
    "        return float(x)\n",
    "    except:\n",
    "        return None"
   ]
  },
  {
   "cell_type": "code",
   "execution_count": 7,
   "metadata": {},
   "outputs": [],
   "source": [
    "df['new_total_sqft'] = df.total_sqft.apply(convert_sqft_to_num)\n",
    "df = df.drop('total_sqft', axis='columns')\n",
    "\n",
    "# Removing the rows in new_total_sqft column that hase None values\n",
    "df = df.dropna()"
   ]
  },
  {
   "cell_type": "code",
   "execution_count": 8,
   "metadata": {},
   "outputs": [],
   "source": [
    "# Adding a new column of price_per_sqft\n",
    "df1 = df.copy()\n",
    "\n",
    "# In our dataset the price column is in Lakhs\n",
    "df1['price_per_sqft'] = (df1['price']*100000)/df1['new_total_sqft']\n",
    "\n",
    "# Checking unique values of 'location' column\n",
    "locations = list(df['location'].unique())\n",
    "\n",
    "# Removing the extra spaces at the end\n",
    "df1.location = df1.location.apply(lambda x: x.strip())\n",
    "\n",
    "# Calulating all the unqiue values in 'location' column\n",
    "location_stats = df1.groupby('location')['location'].agg('count').sort_values(ascending=False)\n",
    "\n",
    "# Labelling the locations with less than or equal to 10 occurences to 'other'\n",
    "locations_less_than_10 = location_stats[location_stats<=10]\n",
    "\n",
    "df1.location = df1.location.apply(lambda x: 'other' if x in locations_less_than_10 else x)\n",
    "\n",
    "# Labelling the dates into Not Ready\n",
    "dates = df1.groupby('availability')['availability'].agg('count').sort_values(ascending=False)\n",
    "\n",
    "dates_not_ready = dates[dates<10000]\n",
    "df1.availability = df1.availability.apply(lambda x: 'Not Ready' if x in dates_not_ready else x)\n",
    "\n",
    "''' Removing Outliers '''\n",
    "\n",
    "df2 = df1[~(df1.new_total_sqft/df1.bhk<300)]\n",
    "\n",
    "# Since there is a wide range for 'price_per_sqft' column with min = Rs.267/sqft till max = Rs. 127470/sqft, we remove the extreme ends using the SD\n",
    "def remove_pps_outliers(df):\n",
    "    \n",
    "    df_out = pd.DataFrame()\n",
    "    \n",
    "    for key, sub_df in df.groupby('location'):\n",
    "        m = np.mean(sub_df.price_per_sqft)\n",
    "        sd = np.std(sub_df.price_per_sqft)\n",
    "        reduce_df = sub_df[(sub_df.price_per_sqft>(m-sd)) & (sub_df.price_per_sqft<(m+sd))]\n",
    "        df_out = pd.concat([df_out, reduce_df], ignore_index=True)\n",
    "    \n",
    "    return df_out\n",
    "\n",
    "df3 = remove_pps_outliers(df2)\n",
    "\n",
    "\n",
    "def remove_bhk_outliers(df):\n",
    "    exclude_indices = np.array([])\n",
    "    \n",
    "    for location, location_df in df.groupby('location'):\n",
    "        bhk_stats = {}\n",
    "        \n",
    "        for bhk, bhk_df in location_df.groupby('bhk'):\n",
    "            bhk_stats[bhk] = {\n",
    "                'mean': np.mean(bhk_df.price_per_sqft),\n",
    "                'std': np.std(bhk_df.price_per_sqft),\n",
    "                'count': bhk_df.shape[0]\n",
    "            }\n",
    "        \n",
    "        for bhk, bhk_df in location_df.groupby('bhk'):\n",
    "            stats = bhk_stats.get(bhk-1)\n",
    "            if stats and stats['count']>5:\n",
    "                exclude_indices = np.append(exclude_indices, bhk_df[bhk_df.price_per_sqft<(stats['mean'])].index.values)\n",
    "    \n",
    "    return df.drop(exclude_indices, axis='index')\n",
    "\n",
    "df4 = remove_bhk_outliers(df3)\n",
    "\n",
    "\n",
    "# Removing the rows that have 'bath' greater than 'bhk'+2\n",
    "df5 = df4[df4.bath<(df4.bhk+2)]\n",
    "\n",
    "''' Model '''\n",
    "\n",
    "# Removing the unnecessary columns (columns that were added only for removing the outliers)\n",
    "df6 = df5.copy()\n",
    "df6 = df6.drop('price_per_sqft', axis='columns')\n",
    "\n",
    "\n",
    "# Converting the categorical_value into numerical_values using get_dummies method\n",
    "dummy_cols = pd.get_dummies(df6.location).drop('other', axis='columns')\n",
    "df6 = pd.concat([df6,dummy_cols], axis='columns')\n",
    "\n",
    "\n",
    "# Converting the categorical_value into numerical_values using get_dummies method\n",
    "dummy_cols = pd.get_dummies(df6.availability).drop('Not Ready', axis='columns')\n",
    "df6 = pd.concat([df6,dummy_cols], axis='columns')\n",
    "\n",
    "# Converting the categorical_value into numerical_values using get_dummies method\n",
    "dummy_cols = pd.get_dummies(df6.area_type).drop('Super built-up  Area', axis='columns')\n",
    "df6 = pd.concat([df6,dummy_cols], axis='columns')\n",
    "\n",
    "\n",
    "df6.drop(['area_type','availability','location'], axis='columns', inplace=True)\n"
   ]
  },
  {
   "cell_type": "code",
   "execution_count": 9,
   "metadata": {},
   "outputs": [],
   "source": [
    "X = df6.drop('price', axis='columns')\n",
    "y = df6['price']"
   ]
  },
  {
   "cell_type": "code",
   "execution_count": 10,
   "metadata": {},
   "outputs": [],
   "source": [
    "def find_best_model(X,y):\n",
    "    models = {\n",
    "        'linear_regression': {\n",
    "            'model': LinearRegression(),\n",
    "            'parameters': {\n",
    "                'normalize': [True,False]\n",
    "            }\n",
    "        },\n",
    "        \n",
    "        'lasso': {\n",
    "            'model': Lasso(),\n",
    "            'parameters': {\n",
    "                'alpha': [1,2],\n",
    "                'selection': ['random', 'cyclic']\n",
    "            }\n",
    "        },\n",
    "        \n",
    "        'decision_tree': {\n",
    "            'model': DecisionTreeRegressor(),\n",
    "            'parameters': {\n",
    "                'criterion': ['mse', 'friedman_mse'],\n",
    "                'splitter': ['best', 'random']\n",
    "            }\n",
    "        }\n",
    "    }\n",
    "    \n",
    "    scores = []\n",
    "    cv_X_y = ShuffleSplit(n_splits=5, test_size=0.20, random_state=0)\n",
    "    \n",
    "    for model_name, model_params in models.items():\n",
    "        gs = GridSearchCV(model_params['model'], model_params['parameters'], cv=cv_X_y, return_train_score=False)\n",
    "        gs.fit(X,y)\n",
    "        scores.append({\n",
    "            'model': model_name,\n",
    "            'best_parameters': gs.best_params_,\n",
    "            'accuracy': gs.best_score_\n",
    "        })\n",
    "        \n",
    "    return pd.DataFrame(scores, columns=['model', 'best_parameters', 'accuracy'])"
   ]
  },
  {
   "cell_type": "code",
   "execution_count": 11,
   "metadata": {},
   "outputs": [
    {
     "data": {
      "text/html": [
       "<div>\n",
       "<style scoped>\n",
       "    .dataframe tbody tr th:only-of-type {\n",
       "        vertical-align: middle;\n",
       "    }\n",
       "\n",
       "    .dataframe tbody tr th {\n",
       "        vertical-align: top;\n",
       "    }\n",
       "\n",
       "    .dataframe thead th {\n",
       "        text-align: right;\n",
       "    }\n",
       "</style>\n",
       "<table border=\"1\" class=\"dataframe\">\n",
       "  <thead>\n",
       "    <tr style=\"text-align: right;\">\n",
       "      <th></th>\n",
       "      <th>model</th>\n",
       "      <th>best_parameters</th>\n",
       "      <th>accuracy</th>\n",
       "    </tr>\n",
       "  </thead>\n",
       "  <tbody>\n",
       "    <tr>\n",
       "      <th>0</th>\n",
       "      <td>linear_regression</td>\n",
       "      <td>{'normalize': True}</td>\n",
       "      <td>0.820724</td>\n",
       "    </tr>\n",
       "    <tr>\n",
       "      <th>1</th>\n",
       "      <td>lasso</td>\n",
       "      <td>{'alpha': 1, 'selection': 'random'}</td>\n",
       "      <td>0.664508</td>\n",
       "    </tr>\n",
       "    <tr>\n",
       "      <th>2</th>\n",
       "      <td>decision_tree</td>\n",
       "      <td>{'criterion': 'friedman_mse', 'splitter': 'ran...</td>\n",
       "      <td>0.703635</td>\n",
       "    </tr>\n",
       "  </tbody>\n",
       "</table>\n",
       "</div>"
      ],
      "text/plain": [
       "               model                                    best_parameters  \\\n",
       "0  linear_regression                                {'normalize': True}   \n",
       "1              lasso                {'alpha': 1, 'selection': 'random'}   \n",
       "2      decision_tree  {'criterion': 'friedman_mse', 'splitter': 'ran...   \n",
       "\n",
       "   accuracy  \n",
       "0  0.820724  \n",
       "1  0.664508  \n",
       "2  0.703635  "
      ]
     },
     "execution_count": 11,
     "metadata": {},
     "output_type": "execute_result"
    }
   ],
   "source": [
    "find_best_model(X, y)"
   ]
  },
  {
   "cell_type": "code",
   "execution_count": 12,
   "metadata": {},
   "outputs": [
    {
     "data": {
      "text/plain": [
       "0.8610503675314692"
      ]
     },
     "execution_count": 12,
     "metadata": {},
     "output_type": "execute_result"
    }
   ],
   "source": [
    "X_train, X_test, y_train, y_test = train_test_split(X, y, test_size=0.20, random_state=20)\n",
    "\n",
    "# Linear Model\n",
    "model = LinearRegression(normalize=True)\n",
    "model.fit(X_train, y_train)\n",
    "\n",
    "model.score(X_test, y_test)"
   ]
  },
  {
   "cell_type": "code",
   "execution_count": 13,
   "metadata": {},
   "outputs": [],
   "source": [
    "def prediction(location, bhk, bath, balcony, sqft, area_type, availability):\n",
    "    \n",
    "    loc_index, area_index, avail_index = -1,-1,-1\n",
    "        \n",
    "    if location!='other':\n",
    "        loc_index = int(np.where(X.columns==location)[0][0])\n",
    "    \n",
    "    if area_type!='Super built-up  Area':\n",
    "        area_index = np.where(X.columns==area_type)[0][0]\n",
    "        \n",
    "    if availability!='Not Ready':        \n",
    "        avail_index = np.where(X.columns==availability)[0][0]\n",
    "            \n",
    "    x = np.zeros(len(X.columns))\n",
    "    x[0] = bath\n",
    "    x[1] = balcony\n",
    "    x[2] = bhk\n",
    "    x[3] = sqft\n",
    "    \n",
    "    if loc_index >= 0:\n",
    "        x[loc_index] = 1\n",
    "    if area_index >= 0:\n",
    "        x[area_index] = 1\n",
    "    if avail_index >= 0:\n",
    "        x[avail_index] = 1\n",
    "        \n",
    "    return model.predict([x])[0]"
   ]
  },
  {
   "cell_type": "code",
   "execution_count": 28,
   "metadata": {},
   "outputs": [
    {
     "name": "stdout",
     "output_type": "stream",
     "text": [
      "Build-up Prediction : 173.5965359344138\n",
      "Carpet Area Prediction : 176.83771782874248\n",
      "Plot Area Prediction : 188.05267311167745\n"
     ]
    }
   ],
   "source": [
    "print(f\"Build-up Prediction : {prediction('1st Block Jayanagar', 2, 2, 2, 1000, 'Built-up  Area', 'Ready To Move')}\")\n",
    "print(f\"Carpet Area Prediction : {prediction('1st Block Jayanagar', 3, 2, 4, 1000, 'Carpet  Area', 'Ready To Move')}\")\n",
    "print(f\"Plot Area Prediction : {prediction('1st Block Jayanagar', 2, 2, 2, 1000, 'Plot  Area', 'Ready To Move')}\")"
   ]
  },
  {
   "cell_type": "code",
   "execution_count": 33,
   "metadata": {},
   "outputs": [],
   "source": [
    "my_prediction = prediction('1st Block Jayanagar', 2, 3, 4, 2200, 'Built-up  Area', 'Ready To Move')"
   ]
  },
  {
   "cell_type": "code",
   "execution_count": 36,
   "metadata": {},
   "outputs": [
    {
     "name": "stdout",
     "output_type": "stream",
     "text": [
      "27.395\n"
     ]
    }
   ],
   "source": [
    "pred = my_prediction/10\n",
    "prediction1 = round(pred , 3)\n",
    "print(prediction1)"
   ]
  },
  {
   "cell_type": "code",
   "execution_count": null,
   "metadata": {},
   "outputs": [],
   "source": []
  }
 ],
 "metadata": {
  "kernelspec": {
   "display_name": "Python 3",
   "language": "python",
   "name": "python3"
  },
  "language_info": {
   "codemirror_mode": {
    "name": "ipython",
    "version": 3
   },
   "file_extension": ".py",
   "mimetype": "text/x-python",
   "name": "python",
   "nbconvert_exporter": "python",
   "pygments_lexer": "ipython3",
   "version": "3.8.5"
  }
 },
 "nbformat": 4,
 "nbformat_minor": 4
}
